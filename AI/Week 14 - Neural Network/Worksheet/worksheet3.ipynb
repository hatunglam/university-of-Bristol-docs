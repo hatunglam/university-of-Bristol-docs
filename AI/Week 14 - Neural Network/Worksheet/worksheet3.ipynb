{
 "cells": [
  {
   "cell_type": "markdown",
   "id": "8b96271a-6d9f-4e10-a149-5bcee5c5fa29",
   "metadata": {},
   "source": [
    "# Introduction\n",
    "\n",
    "This worksheet focuses on Neural Networks. You will:\n",
    "\n",
    "- Implement your own version of a Single Layer Perceptron (SLP) to ensure you understand the details of how it works and compare it with the implementation available in `scikit-learn` to test and validate your solution.\n",
    "- Use `scikit-learn`'s implementation of Multi-Layer Perceptrons (MLP) for both classification and regression tasks, exploring how to configure and optimise these models.\n",
    "\n",
    "This is a reasonably long and difficult worksheet, but, hopefully, an interesting one. Try your best at it and don't worry if you don't get it all done. We will be posting the solutions and you can always ask about it in a different lab in future weeks."
   ]
  },
  {
   "cell_type": "markdown",
   "id": "051fe04f-7cab-4a8a-800b-f14a248b06f9",
   "metadata": {},
   "source": [
    "**Note**: This is a challenging worksheet, and you might not finish all tasks during the lab. However, it is designed to be engaging, so do as much as you can. Remember that the solutions will be made available."
   ]
  },
  {
   "cell_type": "markdown",
   "id": "57d86791-69e7-4905-9a10-f74ecd3d0571",
   "metadata": {},
   "source": [
    "# 0. Preliminaries\n",
    "We firstly import NumPy and matplotlib as we will be using these throughout the worksheet. We use a function %matplotlib inline to display plots in the worksheet."
   ]
  },
  {
   "cell_type": "code",
   "execution_count": 80,
   "id": "a72c5aef-24c2-410e-800d-c0feb5621d6e",
   "metadata": {},
   "outputs": [],
   "source": [
    "#TODO: import NumPy and matplotlib here\n",
    "import numpy as np\n",
    "import matplotlib.pyplot as plt\n",
    "%matplotlib inline"
   ]
  },
  {
   "cell_type": "markdown",
   "id": "de8644d0-7348-4d04-9e33-e652b1152f81",
   "metadata": {},
   "source": [
    "# 1. Single Layer Perceptron  \n",
    "In this question, we will use a single layer perceptron from `sklearn` to make predictions on the **breast cancer dataset**. This is a classification problem where the aim is to classify instances as either malignant or benign based on 30 features, each representing various characteristics present in the images.\n",
    "\n",
    "In this question, you will:  \n",
    "(a) Download the dataset from `sklearn` and store the data and targets in suitable variables.  \n",
    "(b) Separate your data into a training and test split.  \n",
    "(c) (Optional) Write your own function to implement Single Layer Perceptron.   \n",
    "(d) Train a neural network classifier on the training data using the implementation from `sklearn` (`Perceptron`).  \n",
    "(e) Evaluate the performance of both models on the test data using appropriate metrics (e.g., accuracy, precision).  \n",
    "(f) Plot the confusion matrix to visualise the performance of your model."
   ]
  },
  {
   "cell_type": "markdown",
   "id": "c6729c51-388c-4894-bd64-ff59486f64b1",
   "metadata": {},
   "source": [
    "## Part (a)  \n",
    "Import the package `datasets` from `sklearn` and then load the load_breast_cancer dataset (function is `load_breast_cancer()`). Save the data into a variable `X` and the targets into a variable `Y`.  \n",
    "Take a look at the data in `X`. How many datapoints are there? How many features does each datapoint have? (Hint: use `np.shape`).  \n",
    "Take a look at the targets. Is this suitable for a classification algorithm or a regression algorithm?  "
   ]
  },
  {
   "cell_type": "code",
   "execution_count": 81,
   "id": "2295c5b4-3423-4866-b57a-104b75e9c9e4",
   "metadata": {},
   "outputs": [],
   "source": [
    "#TODO: import suitable packages, load the dataset, and save data and targets into variables X and Y\n",
    "from sklearn import datasets\n",
    "\n",
    "cancer = datasets.load_breast_cancer()\n",
    "\n",
    "X = cancer.data\n",
    "y = cancer.target"
   ]
  },
  {
   "cell_type": "code",
   "execution_count": 82,
   "id": "cf3873d4",
   "metadata": {},
   "outputs": [
    {
     "data": {
      "text/plain": [
       "(569, 30)"
      ]
     },
     "execution_count": 82,
     "metadata": {},
     "output_type": "execute_result"
    }
   ],
   "source": [
    "X.shape"
   ]
  },
  {
   "cell_type": "code",
   "execution_count": 83,
   "id": "037dcb85",
   "metadata": {},
   "outputs": [
    {
     "data": {
      "text/plain": [
       "(569,)"
      ]
     },
     "execution_count": 83,
     "metadata": {},
     "output_type": "execute_result"
    }
   ],
   "source": [
    "y.shape"
   ]
  },
  {
   "cell_type": "markdown",
   "id": "f58619ea-116d-41b8-a6bc-db5b46258040",
   "metadata": {},
   "source": [
    "## Part (b)\n",
    "\n",
    "Use the function `train_test_split` from `sklearn.model_selection` to split your data into a training set and a held-out test set. Use a test set that is 0.2 of the original dataset. Set the parameter `random_state` to 10 to help with replication."
   ]
  },
  {
   "cell_type": "code",
   "execution_count": 84,
   "id": "ed494565-04ee-45a0-a7d0-4d7e4678aea3",
   "metadata": {},
   "outputs": [],
   "source": [
    "# TODO: import the package train_test_split from sklearn.model_selection.\n",
    "from sklearn.model_selection import train_test_split \n",
    "# Split the dataset into Xtr, Xtest, Ytr, Ytest\n",
    "Xtr, Xtest, Ytr, Ytest= train_test_split(X, y, test_size=0.2)"
   ]
  },
  {
   "cell_type": "code",
   "execution_count": 85,
   "id": "1eb7091d",
   "metadata": {},
   "outputs": [
    {
     "data": {
      "text/plain": [
       "(114, 30)"
      ]
     },
     "execution_count": 85,
     "metadata": {},
     "output_type": "execute_result"
    }
   ],
   "source": [
    "Xtest.shape"
   ]
  },
  {
   "cell_type": "markdown",
   "id": "9432b834-43b8-4f09-b136-b33a0bfa6ee3",
   "metadata": {},
   "source": [
    "## (Optional) Part (c)  \n",
    "Recall from the lecture that a single-layer perceptron runs as follows:  \n",
    "\n",
    "**Training step**:  \n",
    "- For each training datapoint $(\\vec{x}_i)$:  \n",
    "  - Compute the linear combination $(z = \\vec{w} \\cdot \\vec{x}_i + b)$.  \n",
    "  - Pass \\(z\\) through the activation function (step function in this case) to get the predicted class $(y_{\\text{pred}})$.  \n",
    "  - Compute the error as $(e = y_i - y_{\\text{pred}})$, where $(y_i)$ is the true label.  \n",
    "  - Update the weights and bias using the perceptron learning rule:  \n",
    "    $[\n",
    "    \\vec{w} \\gets \\vec{w} + \\eta \\cdot e \\cdot \\vec{x}_i  \n",
    "    ]  \n",
    "    [\n",
    "    b \\gets b + \\eta \\cdot e\n",
    "    ]$  \n",
    "  Here, $(\\eta)$ is the learning rate.  \n",
    "\n",
    "**Prediction step**:  \n",
    "- For a given datapoint $(\\vec{x})$:  \n",
    "  - Compute the linear combination $(z = \\vec{w} \\cdot \\vec{x} + b)$.  \n",
    "  - Pass $(z)$ through the step function to obtain the class prediction.  \n",
    "\n",
    "Write function(s) to implement the training and prediction steps. Y"
   ]
  },
  {
   "cell_type": "code",
   "execution_count": 86,
   "id": "f7e104c1-f00b-449f-a4cf-1cb10eb2e6b8",
   "metadata": {},
   "outputs": [
    {
     "data": {
      "text/plain": [
       "(114,)"
      ]
     },
     "execution_count": 86,
     "metadata": {},
     "output_type": "execute_result"
    }
   ],
   "source": [
    "class SingleLayerPerceptron:\n",
    "    def __init__(self, input_size, learning_rate, iterat):\n",
    "        #TODO# initialise the weights to random values and set the bias to 0\n",
    "        self.weights = np.random.rand(input_size) #(HINT: use np.random.rand())\n",
    "        self.bias = 0   \n",
    "        self.learning_rate = learning_rate\n",
    "        self.iterat = iterat\n",
    "\n",
    "    def activation(self, z):\n",
    "        #TODO # Write a function to implement the **step activation function**. This activation function should output return 1 if z >= 0, else 0\n",
    "        return np.where(z>0, 1, 0)\n",
    "   \n",
    "    def train(self, X, y):\n",
    "        for epoch in range(self.iterat):\n",
    "            for i in range(X.shape[0]):\n",
    "                # Calculate the linear combination\n",
    "                z = np.dot(X[i], self.weights) + self.bias\n",
    "                y_pred = self.activation(z)\n",
    "                #TODO# Calculate error between target and predicted values\n",
    "                error = y[i] - y_pred\n",
    "                #TODO# update the weights and bias according to the above equations\n",
    "                self.weights += self.learning_rate * X[i] * error\n",
    "                self.bias += self.learning_rate * error \n",
    "\n",
    "    def predict(self, X):\n",
    "        z = np.dot(X, self.weights) + self.bias\n",
    "        return self.activation(z)\n",
    "#Train the perceptron\n",
    "input_size = Xtr.shape[1] # To pass the number of features \n",
    "perceptron1 = SingleLayerPerceptron(input_size=input_size, learning_rate=0.01, iterat=10)\n",
    "\n",
    "##TODO##  #Train the perceptron with the Train data\n",
    "perceptron1.train(Xtr, Ytr)\n",
    "\n",
    "#Test the perceptron\n",
    "my_Ypred = perceptron1.predict(Xtest)\n",
    "my_Ypred.shape"
   ]
  },
  {
   "cell_type": "markdown",
   "id": "f5286105-4bbf-413a-9806-7590068ff8e8",
   "metadata": {},
   "source": [
    "## Perceptron in scikit-learn\n",
    "\n",
    "The `Perceptron` class in `scikit-learn` provides an implementation of the single-layer perceptron algorithm, modified to handle both binary and multi-class classification tasks. \n",
    "- **Activation Function**: Applies a step activation function, outputting class labels based on the linear combination of inputs and weights.  \n"
   ]
  },
  {
   "cell_type": "markdown",
   "id": "8961111a-5183-4f79-9f08-3c0c167abb8e",
   "metadata": {},
   "source": [
    "## Part (d)  \n",
    "Now we can compare your implementation with the `sklearn` implementation. Firstly, import the classifier `Perceptron` from `sklearn.linear_model`. Specify relevant hyperparameters such as the learning rate and maximum iterations (same as in the model above). Fit the model on the training data and make predictions on the test set.  "
   ]
  },
  {
   "cell_type": "code",
   "execution_count": 87,
   "id": "dc8255ff-cec8-4bc2-9cd0-a49f96111b99",
   "metadata": {},
   "outputs": [
    {
     "name": "stdout",
     "output_type": "stream",
     "text": [
      "-- Epoch 1\n",
      "Norm: 62.66, NNZs: 30, Bias: 0.580000, T: 455, Avg. loss: 1851.367144\n",
      "Total training time: 0.00 seconds.\n",
      "-- Epoch 2\n",
      "Norm: 91.61, NNZs: 30, Bias: 0.950000, T: 910, Avg. loss: 1167.471197\n",
      "Total training time: 0.00 seconds.\n",
      "-- Epoch 3\n",
      "Norm: 108.40, NNZs: 30, Bias: 1.240000, T: 1365, Avg. loss: 1127.468349\n",
      "Total training time: 0.00 seconds.\n",
      "-- Epoch 4\n",
      "Norm: 122.38, NNZs: 30, Bias: 1.420000, T: 1820, Avg. loss: 847.183545\n",
      "Total training time: 0.00 seconds.\n",
      "-- Epoch 5\n",
      "Norm: 140.17, NNZs: 30, Bias: 1.670000, T: 2275, Avg. loss: 796.361658\n",
      "Total training time: 0.00 seconds.\n",
      "-- Epoch 6\n",
      "Norm: 152.90, NNZs: 30, Bias: 1.830000, T: 2730, Avg. loss: 759.992869\n",
      "Total training time: 0.00 seconds.\n",
      "-- Epoch 7\n",
      "Norm: 167.39, NNZs: 30, Bias: 2.070000, T: 3185, Avg. loss: 839.189478\n",
      "Total training time: 0.00 seconds.\n",
      "-- Epoch 8\n",
      "Norm: 176.73, NNZs: 30, Bias: 2.200000, T: 3640, Avg. loss: 784.690331\n",
      "Total training time: 0.00 seconds.\n",
      "-- Epoch 9\n",
      "Norm: 179.35, NNZs: 30, Bias: 2.280000, T: 4095, Avg. loss: 679.466431\n",
      "Total training time: 0.00 seconds.\n",
      "-- Epoch 10\n",
      "Norm: 187.08, NNZs: 30, Bias: 2.390000, T: 4550, Avg. loss: 709.576697\n",
      "Total training time: 0.00 seconds.\n"
     ]
    },
    {
     "name": "stderr",
     "output_type": "stream",
     "text": [
      "c:\\Users\\Ha Tung Lam\\anaconda3\\Lib\\site-packages\\sklearn\\linear_model\\_stochastic_gradient.py:744: ConvergenceWarning: Maximum number of iteration reached before convergence. Consider increasing max_iter to improve the fit.\n",
      "  warnings.warn(\n"
     ]
    }
   ],
   "source": [
    "# import the classifier Perceptron from sklearn.linear_model.\n",
    "from sklearn.linear_model import Perceptron\n",
    "\n",
    "# Instantiate the Perceptron classifier with learning rate (eta) and max_iterations same as above. \n",
    "perceptron2 = Perceptron(\n",
    "    max_iter=10,    # Maximum number of iterations \n",
    "    eta0=0.01,        # Learning rate\n",
    "    verbose=1  \n",
    ")\n",
    "\n",
    "# Train the Perceptron on the training data\n",
    "perceptron2.fit(Xtr, Ytr)\n",
    "\n",
    "# Test the Perceptron\n",
    "Y_pred = perceptron2.predict(Xtest)"
   ]
  },
  {
   "cell_type": "markdown",
   "id": "a2a0e126-ec77-40e1-809d-4ebc4f530957",
   "metadata": {},
   "source": [
    "## Part (e) (Optional) \n",
    "Use the built in metrics in sklearn to calculate the accuracy of your classifier on the Testing set. Compare the accuracy of the `sklearn` implementation with your custom implementation. "
   ]
  },
  {
   "cell_type": "code",
   "execution_count": 88,
   "id": "1f3568dd-6ba8-4334-b01f-1eecba75daef",
   "metadata": {},
   "outputs": [
    {
     "name": "stdout",
     "output_type": "stream",
     "text": [
      "0.8333333333333334 0.8947368421052632\n"
     ]
    }
   ],
   "source": [
    "from sklearn.metrics import accuracy_score\n",
    "\n",
    "##TODO## Write your answer here\n",
    "#Evaluate the accuracy\n",
    "\n",
    "my_acc = accuracy_score(Ytest, my_Ypred)\n",
    "sk_acc = accuracy_score(Ytest, Y_pred)\n",
    "\n",
    "print(my_acc, sk_acc)"
   ]
  },
  {
   "cell_type": "markdown",
   "id": "4017c27b-692a-49e3-934b-e97f6d4a1734",
   "metadata": {},
   "source": [
    "## Part(f) \n",
    "Plot the confusion matrix to visualise the performance of your model."
   ]
  },
  {
   "cell_type": "code",
   "execution_count": 89,
   "id": "6cc0ce52-1b73-4e2f-92b2-bb830de90dd6",
   "metadata": {},
   "outputs": [
    {
     "data": {
      "text/plain": [
       "array([[44,  1],\n",
       "       [18, 51]], dtype=int64)"
      ]
     },
     "execution_count": 89,
     "metadata": {},
     "output_type": "execute_result"
    }
   ],
   "source": [
    "from sklearn.metrics import classification_report, confusion_matrix\n",
    "##TODO## Write your answer here\n",
    "cm = confusion_matrix(Ytest, my_Ypred)\n",
    "cm"
   ]
  },
  {
   "cell_type": "markdown",
   "id": "325019de-27a7-42da-81b3-a68544f02935",
   "metadata": {},
   "source": [
    "If the accuracy is low, consider increasing the maximum number of iterations and repeating the fitting and testing process."
   ]
  },
  {
   "attachments": {},
   "cell_type": "markdown",
   "id": "2f699d15-2f7e-4343-951c-e71c23385f4f",
   "metadata": {},
   "source": [
    "# 2. Multilayer Perceptron\n",
    " <img src=\"attachment:82da26eb-a283-4bb4-a5a3-264c06e568b5.png\" width=\"400\"/>\n",
    "\n",
    "The input layer, located on the far left, contains neurons that correspond to the input features. Each neuron in the hidden layer processes the values from the previous layer through a weighted sum, which is then passed through a non-linear activation function, such as `ReLU`. Finally, the output layer takes the values from the last hidden layer and converts them into the model’s output."
   ]
  },
  {
   "cell_type": "markdown",
   "id": "f6d08140-f53a-4683-ad61-a5b2b23181cc",
   "metadata": {},
   "source": [
    "## Pre-Written Functions in scikit-learn for MLP Classification and Regression\n",
    "\n",
    "`scikit-learn` provides pre-written implementations for neural network models through the `MLPClassifier` and `MLPRegressor` classes.\n",
    "- The `MLPClassifier` and `MLPRegressor` automatically select the appropriate configurations (e.g., loss functions and output functions) based on the problem type.\n",
    "- Users can modify hyperparameters (e.g., `hidden_layer_sizes`, `activation`, `max_iter`, etc) to tune the model for specific tasks.\n",
    "- **Note**: In other machine learning libraries, you may need to manually set the loss function and output function, as they are not always configured automatically."
   ]
  },
  {
   "cell_type": "markdown",
   "id": "fcb33576-e61f-4c4d-bf7f-09c9a04af35b",
   "metadata": {},
   "source": [
    "# 2.1. Multi-class Classification using Multilayer Perceptron\n",
    "\n",
    "Now that we’ve compared how your Perceptron model performs against the `sklearn` Perceptron for binary classification, we’ll explore a multiclass classification problem using the `load_digits` dataset. This dataset involves classifying 8x8 images of handwritten digits (0–9) based on 64 pixel intensity features.\n",
    "\n",
    "In this task, you will:  \n",
    "(a) Load the dataset from `sklearn` and store the data and targets.  \n",
    "(b) Split the data into training and test sets.  \n",
    "(c) Train a neural network classifier using `MLPClassifier`.  \n",
    "(d) Evaluate your model’s performance on the test set (e.g., accuracy, precision).  \n",
    "(e) Modify your hyperparameters.  \n",
    "(f) (Optional) Plot the loss curve."
   ]
  },
  {
   "cell_type": "markdown",
   "id": "0dbc6774-09ae-4be1-8a90-9215682207ec",
   "metadata": {},
   "source": [
    "## Part (a)  \n",
    "From `sklearn.datasets` load the load_digits dataset (function is `load_digits()`). Save the data into a variable `X1` and the targets into a variable `Y1`.  \n",
    "Take a look at the data in `X1`. How many datapoints are there? How many features does each datapoint have? (Hint: use `np.shape`). \n",
    "Take a look at the targets. How many classes does the output need to be classified into??  "
   ]
  },
  {
   "cell_type": "code",
   "execution_count": 90,
   "id": "e1eb8182-d55a-419c-bba6-3fa39fb61e6e",
   "metadata": {},
   "outputs": [],
   "source": [
    "#TODO#  #Load the dataset\n",
    "digits= datasets.load_digits()\n",
    "X1 = digits.data\n",
    "Y1 = digits.target\n"
   ]
  },
  {
   "cell_type": "markdown",
   "id": "0cfbde7a-2bfa-49ca-af6a-988d3237921c",
   "metadata": {},
   "source": [
    "Look at the images corresponding to the input. Set the value of the target as the output."
   ]
  },
  {
   "cell_type": "code",
   "execution_count": 91,
   "id": "d81e30b6-9a2e-4994-9b37-9e80f3f2c773",
   "metadata": {},
   "outputs": [
    {
     "data": {
      "image/png": "[encoded data removed]",
      "text/plain": [
       "<Figure size 640x480 with 20 Axes>"
      ]
     },
     "metadata": {},
     "output_type": "display_data"
    }
   ],
   "source": [
    "fig, axes = plt.subplots(2, 10)\n",
    "for i in range(20):\n",
    "    axes[i//10, i %10].imshow(digits.images[i], cmap='gray');\n",
    "    axes[i//10, i %10].axis('off')\n",
    "    axes[i//10, i %10].set_title(f\"PREDICT: {digits.target[i]}\")\n",
    "    \n",
    "plt.tight_layout()\n",
    "plt.show()\n"
   ]
  },
  {
   "cell_type": "markdown",
   "id": "d13bcc32-48a6-4f06-a194-2178e81ffcb8",
   "metadata": {},
   "source": [
    "## Part (b)  \n",
    "Split the dataset into training and testing sets"
   ]
  },
  {
   "cell_type": "code",
   "execution_count": 92,
   "id": "14c83957-96db-4432-803e-a9acbe8a3197",
   "metadata": {},
   "outputs": [
    {
     "data": {
      "text/plain": [
       "((1347, 64), (450, 64))"
      ]
     },
     "execution_count": 92,
     "metadata": {},
     "output_type": "execute_result"
    }
   ],
   "source": [
    "##TODO##\n",
    "Xtr1, Xtest1, Ytr1, Ytest1= train_test_split(X1, Y1)\n",
    "Xtr1.shape, Xtest1.shape"
   ]
  },
  {
   "cell_type": "markdown",
   "id": "1df20c4f-067a-4e31-b443-42649db54deb",
   "metadata": {},
   "source": [
    "##  MLPClassifier from `sklearn.neural_network`\n",
    "- Designed for classification tasks \n",
    "- Uses `log-loss` (also called cross-entropy loss function) by default.\n",
    "- outputs probabilities for each class by default using the **softmax** activation function."
   ]
  },
  {
   "cell_type": "markdown",
   "id": "f7a0d9cb-9070-4ebd-ba41-0a46700a129b",
   "metadata": {},
   "source": [
    "## Part (c)\n",
    "Import `MLPClassifier` from `sklearn.neural_network`.After importing, check the default parameters of the `MLPClassifier` model.\n",
    "\n",
    "Create an instance of the `MLPClassifier` with the following settings:\n",
    "- 2 hidden layers, each with 10 neurons.\n",
    "- activation set as ReLU  \n",
    "- Set the maximum number of iterations (`max_iter`) to 10.\n",
    "- \n",
    "Train the model using the training data (`Xtr1`,`Ytr1`)"
   ]
  },
  {
   "cell_type": "code",
   "execution_count": 93,
   "id": "29ddc143-a85c-409c-bdb5-c66fd19a41fd",
   "metadata": {},
   "outputs": [
    {
     "name": "stdout",
     "output_type": "stream",
     "text": [
      "Iteration 1, loss = 2.25180106\n",
      "Iteration 2, loss = 1.83344135\n",
      "Iteration 3, loss = 1.59070775\n",
      "Iteration 4, loss = 1.42061284\n",
      "Iteration 5, loss = 1.29510796\n",
      "Iteration 6, loss = 1.17838499\n",
      "Iteration 7, loss = 1.03905281\n",
      "Iteration 8, loss = 0.86582020\n",
      "Iteration 9, loss = 0.67319147\n",
      "Iteration 10, loss = 0.52857167\n",
      "Iteration 11, loss = 0.38372266\n",
      "Iteration 12, loss = 0.27531882\n",
      "Iteration 13, loss = 0.23433213\n",
      "Iteration 14, loss = 0.17198453\n",
      "Iteration 15, loss = 0.14609334\n",
      "Iteration 16, loss = 0.13077660\n",
      "Iteration 17, loss = 0.10008270\n",
      "Iteration 18, loss = 0.08099082\n",
      "Iteration 19, loss = 0.06995165\n",
      "Iteration 20, loss = 0.06548047\n"
     ]
    },
    {
     "name": "stderr",
     "output_type": "stream",
     "text": [
      "c:\\Users\\Ha Tung Lam\\anaconda3\\Lib\\site-packages\\sklearn\\neural_network\\_multilayer_perceptron.py:690: ConvergenceWarning: Stochastic Optimizer: Maximum iterations (20) reached and the optimization hasn't converged yet.\n",
      "  warnings.warn(\n"
     ]
    },
    {
     "data": {
      "text/html": [
       "<style>#sk-container-id-7 {\n",
       "  /* Definition of color scheme common for light and dark mode */\n",
       "  --sklearn-color-text: black;\n",
       "  --sklearn-color-line: gray;\n",
       "  /* Definition of color scheme for unfitted estimators */\n",
       "  --sklearn-color-unfitted-level-0: #fff5e6;\n",
       "  --sklearn-color-unfitted-level-1: #f6e4d2;\n",
       "  --sklearn-color-unfitted-level-2: #ffe0b3;\n",
       "  --sklearn-color-unfitted-level-3: chocolate;\n",
       "  /* Definition of color scheme for fitted estimators */\n",
       "  --sklearn-color-fitted-level-0: #f0f8ff;\n",
       "  --sklearn-color-fitted-level-1: #d4ebff;\n",
       "  --sklearn-color-fitted-level-2: #b3dbfd;\n",
       "  --sklearn-color-fitted-level-3: cornflowerblue;\n",
       "\n",
       "  /* Specific color for light theme */\n",
       "  --sklearn-color-text-on-default-background: var(--sg-text-color, var(--theme-code-foreground, var(--jp-content-font-color1, black)));\n",
       "  --sklearn-color-background: var(--sg-background-color, var(--theme-background, var(--jp-layout-color0, white)));\n",
       "  --sklearn-color-border-box: var(--sg-text-color, var(--theme-code-foreground, var(--jp-content-font-color1, black)));\n",
       "  --sklearn-color-icon: #696969;\n",
       "\n",
       "  @media (prefers-color-scheme: dark) {\n",
       "    /* Redefinition of color scheme for dark theme */\n",
       "    --sklearn-color-text-on-default-background: var(--sg-text-color, var(--theme-code-foreground, var(--jp-content-font-color1, white)));\n",
       "    --sklearn-color-background: var(--sg-background-color, var(--theme-background, var(--jp-layout-color0, #111)));\n",
       "    --sklearn-color-border-box: var(--sg-text-color, var(--theme-code-foreground, var(--jp-content-font-color1, white)));\n",
       "    --sklearn-color-icon: #878787;\n",
       "  }\n",
       "}\n",
       "\n",
       "#sk-container-id-7 {\n",
       "  color: var(--sklearn-color-text);\n",
       "}\n",
       "\n",
       "#sk-container-id-7 pre {\n",
       "  padding: 0;\n",
       "}\n",
       "\n",
       "#sk-container-id-7 input.sk-hidden--visually {\n",
       "  border: 0;\n",
       "  clip: rect(1px 1px 1px 1px);\n",
       "  clip: rect(1px, 1px, 1px, 1px);\n",
       "  height: 1px;\n",
       "  margin: -1px;\n",
       "  overflow: hidden;\n",
       "  padding: 0;\n",
       "  position: absolute;\n",
       "  width: 1px;\n",
       "}\n",
       "\n",
       "#sk-container-id-7 div.sk-dashed-wrapped {\n",
       "  border: 1px dashed var(--sklearn-color-line);\n",
       "  margin: 0 0.4em 0.5em 0.4em;\n",
       "  box-sizing: border-box;\n",
       "  padding-bottom: 0.4em;\n",
       "  background-color: var(--sklearn-color-background);\n",
       "}\n",
       "\n",
       "#sk-container-id-7 div.sk-container {\n",
       "  /* jupyter's `normalize.less` sets `[hidden] { display: none; }`\n",
       "     but bootstrap.min.css set `[hidden] { display: none !important; }`\n",
       "     so we also need the `!important` here to be able to override the\n",
       "     default hidden behavior on the sphinx rendered scikit-learn.org.\n",
       "     See: https://github.com/scikit-learn/scikit-learn/issues/21755 */\n",
       "  display: inline-block !important;\n",
       "  position: relative;\n",
       "}\n",
       "\n",
       "#sk-container-id-7 div.sk-text-repr-fallback {\n",
       "  display: none;\n",
       "}\n",
       "\n",
       "div.sk-parallel-item,\n",
       "div.sk-serial,\n",
       "div.sk-item {\n",
       "  /* draw centered vertical line to link estimators */\n",
       "  background-image: linear-gradient(var(--sklearn-color-text-on-default-background), var(--sklearn-color-text-on-default-background));\n",
       "  background-size: 2px 100%;\n",
       "  background-repeat: no-repeat;\n",
       "  background-position: center center;\n",
       "}\n",
       "\n",
       "/* Parallel-specific style estimator block */\n",
       "\n",
       "#sk-container-id-7 div.sk-parallel-item::after {\n",
       "  content: \"\";\n",
       "  width: 100%;\n",
       "  border-bottom: 2px solid var(--sklearn-color-text-on-default-background);\n",
       "  flex-grow: 1;\n",
       "}\n",
       "\n",
       "#sk-container-id-7 div.sk-parallel {\n",
       "  display: flex;\n",
       "  align-items: stretch;\n",
       "  justify-content: center;\n",
       "  background-color: var(--sklearn-color-background);\n",
       "  position: relative;\n",
       "}\n",
       "\n",
       "#sk-container-id-7 div.sk-parallel-item {\n",
       "  display: flex;\n",
       "  flex-direction: column;\n",
       "}\n",
       "\n",
       "#sk-container-id-7 div.sk-parallel-item:first-child::after {\n",
       "  align-self: flex-end;\n",
       "  width: 50%;\n",
       "}\n",
       "\n",
       "#sk-container-id-7 div.sk-parallel-item:last-child::after {\n",
       "  align-self: flex-start;\n",
       "  width: 50%;\n",
       "}\n",
       "\n",
       "#sk-container-id-7 div.sk-parallel-item:only-child::after {\n",
       "  width: 0;\n",
       "}\n",
       "\n",
       "/* Serial-specific style estimator block */\n",
       "\n",
       "#sk-container-id-7 div.sk-serial {\n",
       "  display: flex;\n",
       "  flex-direction: column;\n",
       "  align-items: center;\n",
       "  background-color: var(--sklearn-color-background);\n",
       "  padding-right: 1em;\n",
       "  padding-left: 1em;\n",
       "}\n",
       "\n",
       "\n",
       "/* Toggleable style: style used for estimator/Pipeline/ColumnTransformer box that is\n",
       "clickable and can be expanded/collapsed.\n",
       "- Pipeline and ColumnTransformer use this feature and define the default style\n",
       "- Estimators will overwrite some part of the style using the `sk-estimator` class\n",
       "*/\n",
       "\n",
       "/* Pipeline and ColumnTransformer style (default) */\n",
       "\n",
       "#sk-container-id-7 div.sk-toggleable {\n",
       "  /* Default theme specific background. It is overwritten whether we have a\n",
       "  specific estimator or a Pipeline/ColumnTransformer */\n",
       "  background-color: var(--sklearn-color-background);\n",
       "}\n",
       "\n",
       "/* Toggleable label */\n",
       "#sk-container-id-7 label.sk-toggleable__label {\n",
       "  cursor: pointer;\n",
       "  display: block;\n",
       "  width: 100%;\n",
       "  margin-bottom: 0;\n",
       "  padding: 0.5em;\n",
       "  box-sizing: border-box;\n",
       "  text-align: center;\n",
       "}\n",
       "\n",
       "#sk-container-id-7 label.sk-toggleable__label-arrow:before {\n",
       "  /* Arrow on the left of the label */\n",
       "  content: \"▸\";\n",
       "  float: left;\n",
       "  margin-right: 0.25em;\n",
       "  color: var(--sklearn-color-icon);\n",
       "}\n",
       "\n",
       "#sk-container-id-7 label.sk-toggleable__label-arrow:hover:before {\n",
       "  color: var(--sklearn-color-text);\n",
       "}\n",
       "\n",
       "/* Toggleable content - dropdown */\n",
       "\n",
       "#sk-container-id-7 div.sk-toggleable__content {\n",
       "  max-height: 0;\n",
       "  max-width: 0;\n",
       "  overflow: hidden;\n",
       "  text-align: left;\n",
       "  /* unfitted */\n",
       "  background-color: var(--sklearn-color-unfitted-level-0);\n",
       "}\n",
       "\n",
       "#sk-container-id-7 div.sk-toggleable__content.fitted {\n",
       "  /* fitted */\n",
       "  background-color: var(--sklearn-color-fitted-level-0);\n",
       "}\n",
       "\n",
       "#sk-container-id-7 div.sk-toggleable__content pre {\n",
       "  margin: 0.2em;\n",
       "  border-radius: 0.25em;\n",
       "  color: var(--sklearn-color-text);\n",
       "  /* unfitted */\n",
       "  background-color: var(--sklearn-color-unfitted-level-0);\n",
       "}\n",
       "\n",
       "#sk-container-id-7 div.sk-toggleable__content.fitted pre {\n",
       "  /* unfitted */\n",
       "  background-color: var(--sklearn-color-fitted-level-0);\n",
       "}\n",
       "\n",
       "#sk-container-id-7 input.sk-toggleable__control:checked~div.sk-toggleable__content {\n",
       "  /* Expand drop-down */\n",
       "  max-height: 200px;\n",
       "  max-width: 100%;\n",
       "  overflow: auto;\n",
       "}\n",
       "\n",
       "#sk-container-id-7 input.sk-toggleable__control:checked~label.sk-toggleable__label-arrow:before {\n",
       "  content: \"▾\";\n",
       "}\n",
       "\n",
       "/* Pipeline/ColumnTransformer-specific style */\n",
       "\n",
       "#sk-container-id-7 div.sk-label input.sk-toggleable__control:checked~label.sk-toggleable__label {\n",
       "  color: var(--sklearn-color-text);\n",
       "  background-color: var(--sklearn-color-unfitted-level-2);\n",
       "}\n",
       "\n",
       "#sk-container-id-7 div.sk-label.fitted input.sk-toggleable__control:checked~label.sk-toggleable__label {\n",
       "  background-color: var(--sklearn-color-fitted-level-2);\n",
       "}\n",
       "\n",
       "/* Estimator-specific style */\n",
       "\n",
       "/* Colorize estimator box */\n",
       "#sk-container-id-7 div.sk-estimator input.sk-toggleable__control:checked~label.sk-toggleable__label {\n",
       "  /* unfitted */\n",
       "  background-color: var(--sklearn-color-unfitted-level-2);\n",
       "}\n",
       "\n",
       "#sk-container-id-7 div.sk-estimator.fitted input.sk-toggleable__control:checked~label.sk-toggleable__label {\n",
       "  /* fitted */\n",
       "  background-color: var(--sklearn-color-fitted-level-2);\n",
       "}\n",
       "\n",
       "#sk-container-id-7 div.sk-label label.sk-toggleable__label,\n",
       "#sk-container-id-7 div.sk-label label {\n",
       "  /* The background is the default theme color */\n",
       "  color: var(--sklearn-color-text-on-default-background);\n",
       "}\n",
       "\n",
       "/* On hover, darken the color of the background */\n",
       "#sk-container-id-7 div.sk-label:hover label.sk-toggleable__label {\n",
       "  color: var(--sklearn-color-text);\n",
       "  background-color: var(--sklearn-color-unfitted-level-2);\n",
       "}\n",
       "\n",
       "/* Label box, darken color on hover, fitted */\n",
       "#sk-container-id-7 div.sk-label.fitted:hover label.sk-toggleable__label.fitted {\n",
       "  color: var(--sklearn-color-text);\n",
       "  background-color: var(--sklearn-color-fitted-level-2);\n",
       "}\n",
       "\n",
       "/* Estimator label */\n",
       "\n",
       "#sk-container-id-7 div.sk-label label {\n",
       "  font-family: monospace;\n",
       "  font-weight: bold;\n",
       "  display: inline-block;\n",
       "  line-height: 1.2em;\n",
       "}\n",
       "\n",
       "#sk-container-id-7 div.sk-label-container {\n",
       "  text-align: center;\n",
       "}\n",
       "\n",
       "/* Estimator-specific */\n",
       "#sk-container-id-7 div.sk-estimator {\n",
       "  font-family: monospace;\n",
       "  border: 1px dotted var(--sklearn-color-border-box);\n",
       "  border-radius: 0.25em;\n",
       "  box-sizing: border-box;\n",
       "  margin-bottom: 0.5em;\n",
       "  /* unfitted */\n",
       "  background-color: var(--sklearn-color-unfitted-level-0);\n",
       "}\n",
       "\n",
       "#sk-container-id-7 div.sk-estimator.fitted {\n",
       "  /* fitted */\n",
       "  background-color: var(--sklearn-color-fitted-level-0);\n",
       "}\n",
       "\n",
       "/* on hover */\n",
       "#sk-container-id-7 div.sk-estimator:hover {\n",
       "  /* unfitted */\n",
       "  background-color: var(--sklearn-color-unfitted-level-2);\n",
       "}\n",
       "\n",
       "#sk-container-id-7 div.sk-estimator.fitted:hover {\n",
       "  /* fitted */\n",
       "  background-color: var(--sklearn-color-fitted-level-2);\n",
       "}\n",
       "\n",
       "/* Specification for estimator info (e.g. \"i\" and \"?\") */\n",
       "\n",
       "/* Common style for \"i\" and \"?\" */\n",
       "\n",
       ".sk-estimator-doc-link,\n",
       "a:link.sk-estimator-doc-link,\n",
       "a:visited.sk-estimator-doc-link {\n",
       "  float: right;\n",
       "  font-size: smaller;\n",
       "  line-height: 1em;\n",
       "  font-family: monospace;\n",
       "  background-color: var(--sklearn-color-background);\n",
       "  border-radius: 1em;\n",
       "  height: 1em;\n",
       "  width: 1em;\n",
       "  text-decoration: none !important;\n",
       "  margin-left: 1ex;\n",
       "  /* unfitted */\n",
       "  border: var(--sklearn-color-unfitted-level-1) 1pt solid;\n",
       "  color: var(--sklearn-color-unfitted-level-1);\n",
       "}\n",
       "\n",
       ".sk-estimator-doc-link.fitted,\n",
       "a:link.sk-estimator-doc-link.fitted,\n",
       "a:visited.sk-estimator-doc-link.fitted {\n",
       "  /* fitted */\n",
       "  border: var(--sklearn-color-fitted-level-1) 1pt solid;\n",
       "  color: var(--sklearn-color-fitted-level-1);\n",
       "}\n",
       "\n",
       "/* On hover */\n",
       "div.sk-estimator:hover .sk-estimator-doc-link:hover,\n",
       ".sk-estimator-doc-link:hover,\n",
       "div.sk-label-container:hover .sk-estimator-doc-link:hover,\n",
       ".sk-estimator-doc-link:hover {\n",
       "  /* unfitted */\n",
       "  background-color: var(--sklearn-color-unfitted-level-3);\n",
       "  color: var(--sklearn-color-background);\n",
       "  text-decoration: none;\n",
       "}\n",
       "\n",
       "div.sk-estimator.fitted:hover .sk-estimator-doc-link.fitted:hover,\n",
       ".sk-estimator-doc-link.fitted:hover,\n",
       "div.sk-label-container:hover .sk-estimator-doc-link.fitted:hover,\n",
       ".sk-estimator-doc-link.fitted:hover {\n",
       "  /* fitted */\n",
       "  background-color: var(--sklearn-color-fitted-level-3);\n",
       "  color: var(--sklearn-color-background);\n",
       "  text-decoration: none;\n",
       "}\n",
       "\n",
       "/* Span, style for the box shown on hovering the info icon */\n",
       ".sk-estimator-doc-link span {\n",
       "  display: none;\n",
       "  z-index: 9999;\n",
       "  position: relative;\n",
       "  font-weight: normal;\n",
       "  right: .2ex;\n",
       "  padding: .5ex;\n",
       "  margin: .5ex;\n",
       "  width: min-content;\n",
       "  min-width: 20ex;\n",
       "  max-width: 50ex;\n",
       "  color: var(--sklearn-color-text);\n",
       "  box-shadow: 2pt 2pt 4pt #999;\n",
       "  /* unfitted */\n",
       "  background: var(--sklearn-color-unfitted-level-0);\n",
       "  border: .5pt solid var(--sklearn-color-unfitted-level-3);\n",
       "}\n",
       "\n",
       ".sk-estimator-doc-link.fitted span {\n",
       "  /* fitted */\n",
       "  background: var(--sklearn-color-fitted-level-0);\n",
       "  border: var(--sklearn-color-fitted-level-3);\n",
       "}\n",
       "\n",
       ".sk-estimator-doc-link:hover span {\n",
       "  display: block;\n",
       "}\n",
       "\n",
       "/* \"?\"-specific style due to the `<a>` HTML tag */\n",
       "\n",
       "#sk-container-id-7 a.estimator_doc_link {\n",
       "  float: right;\n",
       "  font-size: 1rem;\n",
       "  line-height: 1em;\n",
       "  font-family: monospace;\n",
       "  background-color: var(--sklearn-color-background);\n",
       "  border-radius: 1rem;\n",
       "  height: 1rem;\n",
       "  width: 1rem;\n",
       "  text-decoration: none;\n",
       "  /* unfitted */\n",
       "  color: var(--sklearn-color-unfitted-level-1);\n",
       "  border: var(--sklearn-color-unfitted-level-1) 1pt solid;\n",
       "}\n",
       "\n",
       "#sk-container-id-7 a.estimator_doc_link.fitted {\n",
       "  /* fitted */\n",
       "  border: var(--sklearn-color-fitted-level-1) 1pt solid;\n",
       "  color: var(--sklearn-color-fitted-level-1);\n",
       "}\n",
       "\n",
       "/* On hover */\n",
       "#sk-container-id-7 a.estimator_doc_link:hover {\n",
       "  /* unfitted */\n",
       "  background-color: var(--sklearn-color-unfitted-level-3);\n",
       "  color: var(--sklearn-color-background);\n",
       "  text-decoration: none;\n",
       "}\n",
       "\n",
       "#sk-container-id-7 a.estimator_doc_link.fitted:hover {\n",
       "  /* fitted */\n",
       "  background-color: var(--sklearn-color-fitted-level-3);\n",
       "}\n",
       "</style><div id=\"sk-container-id-7\" class=\"sk-top-container\"><div class=\"sk-text-repr-fallback\"><pre>MLPClassifier(hidden_layer_sizes=(32, 16, 8), learning_rate_init=0.01,\n",
       "              max_iter=20, verbose=2)</pre><b>In a Jupyter environment, please rerun this cell to show the HTML representation or trust the notebook. <br />On GitHub, the HTML representation is unable to render, please try loading this page with nbviewer.org.</b></div><div class=\"sk-container\" hidden><div class=\"sk-item\"><div class=\"sk-estimator fitted sk-toggleable\"><input class=\"sk-toggleable__control sk-hidden--visually\" id=\"sk-estimator-id-7\" type=\"checkbox\" checked><label for=\"sk-estimator-id-7\" class=\"sk-toggleable__label fitted sk-toggleable__label-arrow fitted\">&nbsp;&nbsp;MLPClassifier<a class=\"sk-estimator-doc-link fitted\" rel=\"noreferrer\" target=\"_blank\" href=\"https://scikit-learn.org/1.5/modules/generated/sklearn.neural_network.MLPClassifier.html\">?<span>Documentation for MLPClassifier</span></a><span class=\"sk-estimator-doc-link fitted\">i<span>Fitted</span></span></label><div class=\"sk-toggleable__content fitted\"><pre>MLPClassifier(hidden_layer_sizes=(32, 16, 8), learning_rate_init=0.01,\n",
       "              max_iter=20, verbose=2)</pre></div> </div></div></div></div>"
      ],
      "text/plain": [
       "MLPClassifier(hidden_layer_sizes=(32, 16, 8), learning_rate_init=0.01,\n",
       "              max_iter=20, verbose=2)"
      ]
     },
     "execution_count": 93,
     "metadata": {},
     "output_type": "execute_result"
    }
   ],
   "source": [
    "from sklearn.neural_network import MLPClassifier\n",
    "\n",
    "mlp_classifier = MLPClassifier(\n",
    "    hidden_layer_sizes=(32, 16, 8),  \n",
    "    activation='relu',   \n",
    "    learning_rate_init=0.01,\n",
    "    max_iter=20, \n",
    "    verbose=2\n",
    ")\n",
    "\n",
    "\n",
    "##TODO## Train the MLPClassifier on the training data\n",
    "##TODO##\n",
    "mlp_classifier.fit(Xtr1, Ytr1)\n"
   ]
  },
  {
   "cell_type": "markdown",
   "id": "f0d3280e-ff06-4113-bfb0-57af45cba0c7",
   "metadata": {},
   "source": [
    "## Part (d)\n",
    "Make predictions on the test set.\n",
    "Measure accuracy using sklearn_metrics"
   ]
  },
  {
   "cell_type": "code",
   "execution_count": 94,
   "id": "94e88a6a-2a8c-404b-9cc9-7bde8ad385cf",
   "metadata": {},
   "outputs": [
    {
     "data": {
      "text/plain": [
       "0.9244444444444444"
      ]
     },
     "execution_count": 94,
     "metadata": {},
     "output_type": "execute_result"
    }
   ],
   "source": [
    "##TODO##\n",
    "y_pred_mlp1 = mlp_classifier.predict(Xtest1)\n",
    "accuracy_mlp1 = accuracy_score(Ytest1, y_pred_mlp1)\n",
    "accuracy_mlp1"
   ]
  },
  {
   "cell_type": "markdown",
   "id": "2d5179ea-71ad-4e6b-91b3-0d15bd31611f",
   "metadata": {},
   "source": [
    "Visualize a sample of images and their predictions for MLP. Check if it is correct."
   ]
  },
  {
   "cell_type": "code",
   "execution_count": null,
   "id": "33713d18-5894-41ff-988a-23f97178423e",
   "metadata": {},
   "outputs": [],
   "source": []
  },
  {
   "cell_type": "markdown",
   "id": "1b9ed7c9-84c1-4a62-ab61-8dba0e6cc41d",
   "metadata": {},
   "source": [
    "## Part (e)\n",
    "Experiment with Hidden Layer Configurations\n",
    "This neural network currently has 2 hidden layers, each with 10 neurons (`hidden_layer_sizes=(10,10)`). The parameter `hidden_layer_sizes=(x, y, ...)` specifies the number of neurons in each layer.\n",
    "\n",
    "- Try experimenting with different configurations of hidden layers (e.g., fewer or more layers, or varying the number of neurons per layer) to observe their effect on the model's performance.\n",
    "- Does increasing the number of layers or neurons always improve the performance? Why or why not?\n",
    "\n",
    "Investigate the Parameter `activation`\n",
    "Explore the parameter `activation` in the `MLPClassifier` model. \n",
    "\n",
    "- What are the different activation functions available (e.g., `relu`, `tanh`, `logistic`)?\n",
    "- Change the activation function and observe how it impacts the model's performance.\n",
    "\n",
    "Investigate the Parameter `learning_rate_init`\n",
    "- Explore the parameter `activation` in the `MLPRegressor` or `MLPClassifier` model. \n",
    "- What does increasing or decreasing the value of learning_rate result in?"
   ]
  },
  {
   "cell_type": "markdown",
   "id": "0e2e2249-70a9-458b-a60c-c69adea4be05",
   "metadata": {},
   "source": [
    "## Part (f) (Optional)\n",
    "Plot the loss curve (progression of the loss during training)\n",
    "Access the model's loss curve to visualise the progression of the loss during training.\n",
    "- Use the `loss_curve_` attribute of the trained model to retrieve the loss values for each iteration."
   ]
  },
  {
   "cell_type": "code",
   "execution_count": 95,
   "id": "93d00bea-9900-4626-9007-2c82bafe26e1",
   "metadata": {},
   "outputs": [
    {
     "data": {
      "image/png": "[encoded data removed]",
      "text/plain": [
       "<Figure size 800x600 with 1 Axes>"
      ]
     },
     "metadata": {},
     "output_type": "display_data"
    }
   ],
   "source": [
    "##TODO##\n",
    "##TODO##\n",
    "plt.figure(figsize=(8, 6))\n",
    "plt.plot(mlp_classifier.loss_curve_)\n",
    "plt.title(\"Loss Curve\", fontsize=16)\n",
    "plt.xlabel(\"Iteration\", fontsize=14)\n",
    "plt.ylabel(\"Loss\", fontsize=14)\n",
    "plt.grid(True)\n",
    "plt.show()"
   ]
  },
  {
   "cell_type": "markdown",
   "id": "16e5a6f5-1cf7-4be4-88ec-79cde9a32eab",
   "metadata": {},
   "source": [
    "# 2.2.  Regression using Multilayer Perceptron\n",
    "Now, we’ll perform a regression task using a Multilayer Perceptron on the `load_diabetes` dataset. This dataset involves predicting a continuous target variable related to diabetes progression based on 10 numerical features.  \n",
    "\n",
    "In this task, you will:  \n",
    "(a) Load the dataset using the `load_diabetes` function from `sklearn.datasets`.  \n",
    "(b) Split the data into training and test sets.  \n",
    "(c) Train a neural network regressor using `MLPRegressor`.  \n",
    "(d) Evaluate your model’s performance on the test set using metrics such as mean squared error (MSE) and R² score.  \n",
    "(e) Experiment with different hyperparameters to optimise the model's performance.  \n",
    "(f) (Optional) Plot the predicted vs actual values to visualise the model's accuracy.  \n",
    "(g) Plot the loss curve"
   ]
  },
  {
   "cell_type": "markdown",
   "id": "ecfe9a88-1dd1-4eca-b92c-0436a3c4c6bf",
   "metadata": {},
   "source": [
    "## Part (a)\n",
    "Load the load_diabetes from sklearn.datasets\n",
    "Check the X and y of your data\n",
    "Take a look at the data in `X2` and the target labels in `Y2`. Find their shapes using `.shape`. \n",
    "- How many data points are there in `X2`?\n",
    "- How many features does each data point have?\n",
    "- Does the data require scaling or normalising before training a neural network model?"
   ]
  },
  {
   "cell_type": "code",
   "execution_count": 96,
   "id": "bc722b18-eec5-497f-923a-f1cb51aa8654",
   "metadata": {},
   "outputs": [],
   "source": [
    "#TODO# Load dataset\n",
    "db = datasets.load_diabetes()\n",
    "X2 = db.data\n",
    "Y2 = db.target"
   ]
  },
  {
   "cell_type": "markdown",
   "id": "83bc0ace-30f0-450e-9ee2-c9de26d2bcb8",
   "metadata": {},
   "source": [
    "## Part (b) \n",
    "Split the data into training and testing sets"
   ]
  },
  {
   "cell_type": "code",
   "execution_count": 97,
   "id": "04104e25-6832-4ee0-ad01-4a8cd692c1f6",
   "metadata": {},
   "outputs": [],
   "source": [
    "##TODO## Split dataset\n",
    "Xtr2, Xtest2, Ytr2, Ytest2 = train_test_split(X2, Y2)"
   ]
  },
  {
   "cell_type": "markdown",
   "id": "11abbeca-f208-45c5-bbcb-ecdc3f180ca9",
   "metadata": {},
   "source": [
    "## MLPRegressor from `sklearn.neural_network`\n",
    "Class MLPRegressor from `sklearn.neural_network` implements a multi-layer perceptron (MLP) that trains using backpropagation with no activation function  in the output layer, which can also be seen as using the identity function as activation function. Therefore, it uses the square error as the loss function, and the output is a set of continuous"
   ]
  },
  {
   "cell_type": "markdown",
   "id": "f0eeba41-ebff-4f5c-8ee1-e0b5d77c65f9",
   "metadata": {},
   "source": [
    "## Part (c)\n",
    "Import the `MLPRegressor` from `sklearn.neural_network`. After importing, check the default parameters of the `MLPRegressor` model.\n",
    "- What are the default values for parameters such as `hidden_layer_sizes`, `activation`, and `solver`?\n",
    "- How would you go about changing any of these default parameters for your model?\n",
    "## Create the instance of the MLPRegressor\n",
    "Create an instance of the `MLPRegressor` with the following settings:\n",
    "- 2 hidden layers, each with 10 neurons.\n",
    "- Set the maximum number of iterations (`max_iter`) to 10.\n",
    "  \n",
    "Train the model using the training data (`Xtr2`,`Ytr2`)"
   ]
  },
  {
   "cell_type": "code",
   "execution_count": 116,
   "id": "5c4bb5be-e131-446e-a146-1bbb5e71ca95",
   "metadata": {},
   "outputs": [
    {
     "name": "stderr",
     "output_type": "stream",
     "text": [
      "c:\\Users\\Ha Tung Lam\\anaconda3\\Lib\\site-packages\\sklearn\\neural_network\\_multilayer_perceptron.py:690: ConvergenceWarning: Stochastic Optimizer: Maximum iterations (10) reached and the optimization hasn't converged yet.\n",
      "  warnings.warn(\n"
     ]
    },
    {
     "data": {
      "text/html": [
       "<style>#sk-container-id-11 {\n",
       "  /* Definition of color scheme common for light and dark mode */\n",
       "  --sklearn-color-text: black;\n",
       "  --sklearn-color-line: gray;\n",
       "  /* Definition of color scheme for unfitted estimators */\n",
       "  --sklearn-color-unfitted-level-0: #fff5e6;\n",
       "  --sklearn-color-unfitted-level-1: #f6e4d2;\n",
       "  --sklearn-color-unfitted-level-2: #ffe0b3;\n",
       "  --sklearn-color-unfitted-level-3: chocolate;\n",
       "  /* Definition of color scheme for fitted estimators */\n",
       "  --sklearn-color-fitted-level-0: #f0f8ff;\n",
       "  --sklearn-color-fitted-level-1: #d4ebff;\n",
       "  --sklearn-color-fitted-level-2: #b3dbfd;\n",
       "  --sklearn-color-fitted-level-3: cornflowerblue;\n",
       "\n",
       "  /* Specific color for light theme */\n",
       "  --sklearn-color-text-on-default-background: var(--sg-text-color, var(--theme-code-foreground, var(--jp-content-font-color1, black)));\n",
       "  --sklearn-color-background: var(--sg-background-color, var(--theme-background, var(--jp-layout-color0, white)));\n",
       "  --sklearn-color-border-box: var(--sg-text-color, var(--theme-code-foreground, var(--jp-content-font-color1, black)));\n",
       "  --sklearn-color-icon: #696969;\n",
       "\n",
       "  @media (prefers-color-scheme: dark) {\n",
       "    /* Redefinition of color scheme for dark theme */\n",
       "    --sklearn-color-text-on-default-background: var(--sg-text-color, var(--theme-code-foreground, var(--jp-content-font-color1, white)));\n",
       "    --sklearn-color-background: var(--sg-background-color, var(--theme-background, var(--jp-layout-color0, #111)));\n",
       "    --sklearn-color-border-box: var(--sg-text-color, var(--theme-code-foreground, var(--jp-content-font-color1, white)));\n",
       "    --sklearn-color-icon: #878787;\n",
       "  }\n",
       "}\n",
       "\n",
       "#sk-container-id-11 {\n",
       "  color: var(--sklearn-color-text);\n",
       "}\n",
       "\n",
       "#sk-container-id-11 pre {\n",
       "  padding: 0;\n",
       "}\n",
       "\n",
       "#sk-container-id-11 input.sk-hidden--visually {\n",
       "  border: 0;\n",
       "  clip: rect(1px 1px 1px 1px);\n",
       "  clip: rect(1px, 1px, 1px, 1px);\n",
       "  height: 1px;\n",
       "  margin: -1px;\n",
       "  overflow: hidden;\n",
       "  padding: 0;\n",
       "  position: absolute;\n",
       "  width: 1px;\n",
       "}\n",
       "\n",
       "#sk-container-id-11 div.sk-dashed-wrapped {\n",
       "  border: 1px dashed var(--sklearn-color-line);\n",
       "  margin: 0 0.4em 0.5em 0.4em;\n",
       "  box-sizing: border-box;\n",
       "  padding-bottom: 0.4em;\n",
       "  background-color: var(--sklearn-color-background);\n",
       "}\n",
       "\n",
       "#sk-container-id-11 div.sk-container {\n",
       "  /* jupyter's `normalize.less` sets `[hidden] { display: none; }`\n",
       "     but bootstrap.min.css set `[hidden] { display: none !important; }`\n",
       "     so we also need the `!important` here to be able to override the\n",
       "     default hidden behavior on the sphinx rendered scikit-learn.org.\n",
       "     See: https://github.com/scikit-learn/scikit-learn/issues/21755 */\n",
       "  display: inline-block !important;\n",
       "  position: relative;\n",
       "}\n",
       "\n",
       "#sk-container-id-11 div.sk-text-repr-fallback {\n",
       "  display: none;\n",
       "}\n",
       "\n",
       "div.sk-parallel-item,\n",
       "div.sk-serial,\n",
       "div.sk-item {\n",
       "  /* draw centered vertical line to link estimators */\n",
       "  background-image: linear-gradient(var(--sklearn-color-text-on-default-background), var(--sklearn-color-text-on-default-background));\n",
       "  background-size: 2px 100%;\n",
       "  background-repeat: no-repeat;\n",
       "  background-position: center center;\n",
       "}\n",
       "\n",
       "/* Parallel-specific style estimator block */\n",
       "\n",
       "#sk-container-id-11 div.sk-parallel-item::after {\n",
       "  content: \"\";\n",
       "  width: 100%;\n",
       "  border-bottom: 2px solid var(--sklearn-color-text-on-default-background);\n",
       "  flex-grow: 1;\n",
       "}\n",
       "\n",
       "#sk-container-id-11 div.sk-parallel {\n",
       "  display: flex;\n",
       "  align-items: stretch;\n",
       "  justify-content: center;\n",
       "  background-color: var(--sklearn-color-background);\n",
       "  position: relative;\n",
       "}\n",
       "\n",
       "#sk-container-id-11 div.sk-parallel-item {\n",
       "  display: flex;\n",
       "  flex-direction: column;\n",
       "}\n",
       "\n",
       "#sk-container-id-11 div.sk-parallel-item:first-child::after {\n",
       "  align-self: flex-end;\n",
       "  width: 50%;\n",
       "}\n",
       "\n",
       "#sk-container-id-11 div.sk-parallel-item:last-child::after {\n",
       "  align-self: flex-start;\n",
       "  width: 50%;\n",
       "}\n",
       "\n",
       "#sk-container-id-11 div.sk-parallel-item:only-child::after {\n",
       "  width: 0;\n",
       "}\n",
       "\n",
       "/* Serial-specific style estimator block */\n",
       "\n",
       "#sk-container-id-11 div.sk-serial {\n",
       "  display: flex;\n",
       "  flex-direction: column;\n",
       "  align-items: center;\n",
       "  background-color: var(--sklearn-color-background);\n",
       "  padding-right: 1em;\n",
       "  padding-left: 1em;\n",
       "}\n",
       "\n",
       "\n",
       "/* Toggleable style: style used for estimator/Pipeline/ColumnTransformer box that is\n",
       "clickable and can be expanded/collapsed.\n",
       "- Pipeline and ColumnTransformer use this feature and define the default style\n",
       "- Estimators will overwrite some part of the style using the `sk-estimator` class\n",
       "*/\n",
       "\n",
       "/* Pipeline and ColumnTransformer style (default) */\n",
       "\n",
       "#sk-container-id-11 div.sk-toggleable {\n",
       "  /* Default theme specific background. It is overwritten whether we have a\n",
       "  specific estimator or a Pipeline/ColumnTransformer */\n",
       "  background-color: var(--sklearn-color-background);\n",
       "}\n",
       "\n",
       "/* Toggleable label */\n",
       "#sk-container-id-11 label.sk-toggleable__label {\n",
       "  cursor: pointer;\n",
       "  display: block;\n",
       "  width: 100%;\n",
       "  margin-bottom: 0;\n",
       "  padding: 0.5em;\n",
       "  box-sizing: border-box;\n",
       "  text-align: center;\n",
       "}\n",
       "\n",
       "#sk-container-id-11 label.sk-toggleable__label-arrow:before {\n",
       "  /* Arrow on the left of the label */\n",
       "  content: \"▸\";\n",
       "  float: left;\n",
       "  margin-right: 0.25em;\n",
       "  color: var(--sklearn-color-icon);\n",
       "}\n",
       "\n",
       "#sk-container-id-11 label.sk-toggleable__label-arrow:hover:before {\n",
       "  color: var(--sklearn-color-text);\n",
       "}\n",
       "\n",
       "/* Toggleable content - dropdown */\n",
       "\n",
       "#sk-container-id-11 div.sk-toggleable__content {\n",
       "  max-height: 0;\n",
       "  max-width: 0;\n",
       "  overflow: hidden;\n",
       "  text-align: left;\n",
       "  /* unfitted */\n",
       "  background-color: var(--sklearn-color-unfitted-level-0);\n",
       "}\n",
       "\n",
       "#sk-container-id-11 div.sk-toggleable__content.fitted {\n",
       "  /* fitted */\n",
       "  background-color: var(--sklearn-color-fitted-level-0);\n",
       "}\n",
       "\n",
       "#sk-container-id-11 div.sk-toggleable__content pre {\n",
       "  margin: 0.2em;\n",
       "  border-radius: 0.25em;\n",
       "  color: var(--sklearn-color-text);\n",
       "  /* unfitted */\n",
       "  background-color: var(--sklearn-color-unfitted-level-0);\n",
       "}\n",
       "\n",
       "#sk-container-id-11 div.sk-toggleable__content.fitted pre {\n",
       "  /* unfitted */\n",
       "  background-color: var(--sklearn-color-fitted-level-0);\n",
       "}\n",
       "\n",
       "#sk-container-id-11 input.sk-toggleable__control:checked~div.sk-toggleable__content {\n",
       "  /* Expand drop-down */\n",
       "  max-height: 200px;\n",
       "  max-width: 100%;\n",
       "  overflow: auto;\n",
       "}\n",
       "\n",
       "#sk-container-id-11 input.sk-toggleable__control:checked~label.sk-toggleable__label-arrow:before {\n",
       "  content: \"▾\";\n",
       "}\n",
       "\n",
       "/* Pipeline/ColumnTransformer-specific style */\n",
       "\n",
       "#sk-container-id-11 div.sk-label input.sk-toggleable__control:checked~label.sk-toggleable__label {\n",
       "  color: var(--sklearn-color-text);\n",
       "  background-color: var(--sklearn-color-unfitted-level-2);\n",
       "}\n",
       "\n",
       "#sk-container-id-11 div.sk-label.fitted input.sk-toggleable__control:checked~label.sk-toggleable__label {\n",
       "  background-color: var(--sklearn-color-fitted-level-2);\n",
       "}\n",
       "\n",
       "/* Estimator-specific style */\n",
       "\n",
       "/* Colorize estimator box */\n",
       "#sk-container-id-11 div.sk-estimator input.sk-toggleable__control:checked~label.sk-toggleable__label {\n",
       "  /* unfitted */\n",
       "  background-color: var(--sklearn-color-unfitted-level-2);\n",
       "}\n",
       "\n",
       "#sk-container-id-11 div.sk-estimator.fitted input.sk-toggleable__control:checked~label.sk-toggleable__label {\n",
       "  /* fitted */\n",
       "  background-color: var(--sklearn-color-fitted-level-2);\n",
       "}\n",
       "\n",
       "#sk-container-id-11 div.sk-label label.sk-toggleable__label,\n",
       "#sk-container-id-11 div.sk-label label {\n",
       "  /* The background is the default theme color */\n",
       "  color: var(--sklearn-color-text-on-default-background);\n",
       "}\n",
       "\n",
       "/* On hover, darken the color of the background */\n",
       "#sk-container-id-11 div.sk-label:hover label.sk-toggleable__label {\n",
       "  color: var(--sklearn-color-text);\n",
       "  background-color: var(--sklearn-color-unfitted-level-2);\n",
       "}\n",
       "\n",
       "/* Label box, darken color on hover, fitted */\n",
       "#sk-container-id-11 div.sk-label.fitted:hover label.sk-toggleable__label.fitted {\n",
       "  color: var(--sklearn-color-text);\n",
       "  background-color: var(--sklearn-color-fitted-level-2);\n",
       "}\n",
       "\n",
       "/* Estimator label */\n",
       "\n",
       "#sk-container-id-11 div.sk-label label {\n",
       "  font-family: monospace;\n",
       "  font-weight: bold;\n",
       "  display: inline-block;\n",
       "  line-height: 1.2em;\n",
       "}\n",
       "\n",
       "#sk-container-id-11 div.sk-label-container {\n",
       "  text-align: center;\n",
       "}\n",
       "\n",
       "/* Estimator-specific */\n",
       "#sk-container-id-11 div.sk-estimator {\n",
       "  font-family: monospace;\n",
       "  border: 1px dotted var(--sklearn-color-border-box);\n",
       "  border-radius: 0.25em;\n",
       "  box-sizing: border-box;\n",
       "  margin-bottom: 0.5em;\n",
       "  /* unfitted */\n",
       "  background-color: var(--sklearn-color-unfitted-level-0);\n",
       "}\n",
       "\n",
       "#sk-container-id-11 div.sk-estimator.fitted {\n",
       "  /* fitted */\n",
       "  background-color: var(--sklearn-color-fitted-level-0);\n",
       "}\n",
       "\n",
       "/* on hover */\n",
       "#sk-container-id-11 div.sk-estimator:hover {\n",
       "  /* unfitted */\n",
       "  background-color: var(--sklearn-color-unfitted-level-2);\n",
       "}\n",
       "\n",
       "#sk-container-id-11 div.sk-estimator.fitted:hover {\n",
       "  /* fitted */\n",
       "  background-color: var(--sklearn-color-fitted-level-2);\n",
       "}\n",
       "\n",
       "/* Specification for estimator info (e.g. \"i\" and \"?\") */\n",
       "\n",
       "/* Common style for \"i\" and \"?\" */\n",
       "\n",
       ".sk-estimator-doc-link,\n",
       "a:link.sk-estimator-doc-link,\n",
       "a:visited.sk-estimator-doc-link {\n",
       "  float: right;\n",
       "  font-size: smaller;\n",
       "  line-height: 1em;\n",
       "  font-family: monospace;\n",
       "  background-color: var(--sklearn-color-background);\n",
       "  border-radius: 1em;\n",
       "  height: 1em;\n",
       "  width: 1em;\n",
       "  text-decoration: none !important;\n",
       "  margin-left: 1ex;\n",
       "  /* unfitted */\n",
       "  border: var(--sklearn-color-unfitted-level-1) 1pt solid;\n",
       "  color: var(--sklearn-color-unfitted-level-1);\n",
       "}\n",
       "\n",
       ".sk-estimator-doc-link.fitted,\n",
       "a:link.sk-estimator-doc-link.fitted,\n",
       "a:visited.sk-estimator-doc-link.fitted {\n",
       "  /* fitted */\n",
       "  border: var(--sklearn-color-fitted-level-1) 1pt solid;\n",
       "  color: var(--sklearn-color-fitted-level-1);\n",
       "}\n",
       "\n",
       "/* On hover */\n",
       "div.sk-estimator:hover .sk-estimator-doc-link:hover,\n",
       ".sk-estimator-doc-link:hover,\n",
       "div.sk-label-container:hover .sk-estimator-doc-link:hover,\n",
       ".sk-estimator-doc-link:hover {\n",
       "  /* unfitted */\n",
       "  background-color: var(--sklearn-color-unfitted-level-3);\n",
       "  color: var(--sklearn-color-background);\n",
       "  text-decoration: none;\n",
       "}\n",
       "\n",
       "div.sk-estimator.fitted:hover .sk-estimator-doc-link.fitted:hover,\n",
       ".sk-estimator-doc-link.fitted:hover,\n",
       "div.sk-label-container:hover .sk-estimator-doc-link.fitted:hover,\n",
       ".sk-estimator-doc-link.fitted:hover {\n",
       "  /* fitted */\n",
       "  background-color: var(--sklearn-color-fitted-level-3);\n",
       "  color: var(--sklearn-color-background);\n",
       "  text-decoration: none;\n",
       "}\n",
       "\n",
       "/* Span, style for the box shown on hovering the info icon */\n",
       ".sk-estimator-doc-link span {\n",
       "  display: none;\n",
       "  z-index: 9999;\n",
       "  position: relative;\n",
       "  font-weight: normal;\n",
       "  right: .2ex;\n",
       "  padding: .5ex;\n",
       "  margin: .5ex;\n",
       "  width: min-content;\n",
       "  min-width: 20ex;\n",
       "  max-width: 50ex;\n",
       "  color: var(--sklearn-color-text);\n",
       "  box-shadow: 2pt 2pt 4pt #999;\n",
       "  /* unfitted */\n",
       "  background: var(--sklearn-color-unfitted-level-0);\n",
       "  border: .5pt solid var(--sklearn-color-unfitted-level-3);\n",
       "}\n",
       "\n",
       ".sk-estimator-doc-link.fitted span {\n",
       "  /* fitted */\n",
       "  background: var(--sklearn-color-fitted-level-0);\n",
       "  border: var(--sklearn-color-fitted-level-3);\n",
       "}\n",
       "\n",
       ".sk-estimator-doc-link:hover span {\n",
       "  display: block;\n",
       "}\n",
       "\n",
       "/* \"?\"-specific style due to the `<a>` HTML tag */\n",
       "\n",
       "#sk-container-id-11 a.estimator_doc_link {\n",
       "  float: right;\n",
       "  font-size: 1rem;\n",
       "  line-height: 1em;\n",
       "  font-family: monospace;\n",
       "  background-color: var(--sklearn-color-background);\n",
       "  border-radius: 1rem;\n",
       "  height: 1rem;\n",
       "  width: 1rem;\n",
       "  text-decoration: none;\n",
       "  /* unfitted */\n",
       "  color: var(--sklearn-color-unfitted-level-1);\n",
       "  border: var(--sklearn-color-unfitted-level-1) 1pt solid;\n",
       "}\n",
       "\n",
       "#sk-container-id-11 a.estimator_doc_link.fitted {\n",
       "  /* fitted */\n",
       "  border: var(--sklearn-color-fitted-level-1) 1pt solid;\n",
       "  color: var(--sklearn-color-fitted-level-1);\n",
       "}\n",
       "\n",
       "/* On hover */\n",
       "#sk-container-id-11 a.estimator_doc_link:hover {\n",
       "  /* unfitted */\n",
       "  background-color: var(--sklearn-color-unfitted-level-3);\n",
       "  color: var(--sklearn-color-background);\n",
       "  text-decoration: none;\n",
       "}\n",
       "\n",
       "#sk-container-id-11 a.estimator_doc_link.fitted:hover {\n",
       "  /* fitted */\n",
       "  background-color: var(--sklearn-color-fitted-level-3);\n",
       "}\n",
       "</style><div id=\"sk-container-id-11\" class=\"sk-top-container\"><div class=\"sk-text-repr-fallback\"><pre>MLPRegressor(hidden_layer_sizes=(64, 32, 8), max_iter=10)</pre><b>In a Jupyter environment, please rerun this cell to show the HTML representation or trust the notebook. <br />On GitHub, the HTML representation is unable to render, please try loading this page with nbviewer.org.</b></div><div class=\"sk-container\" hidden><div class=\"sk-item\"><div class=\"sk-estimator fitted sk-toggleable\"><input class=\"sk-toggleable__control sk-hidden--visually\" id=\"sk-estimator-id-11\" type=\"checkbox\" checked><label for=\"sk-estimator-id-11\" class=\"sk-toggleable__label fitted sk-toggleable__label-arrow fitted\">&nbsp;&nbsp;MLPRegressor<a class=\"sk-estimator-doc-link fitted\" rel=\"noreferrer\" target=\"_blank\" href=\"https://scikit-learn.org/1.5/modules/generated/sklearn.neural_network.MLPRegressor.html\">?<span>Documentation for MLPRegressor</span></a><span class=\"sk-estimator-doc-link fitted\">i<span>Fitted</span></span></label><div class=\"sk-toggleable__content fitted\"><pre>MLPRegressor(hidden_layer_sizes=(64, 32, 8), max_iter=10)</pre></div> </div></div></div></div>"
      ],
      "text/plain": [
       "MLPRegressor(hidden_layer_sizes=(64, 32, 8), max_iter=10)"
      ]
     },
     "execution_count": 116,
     "metadata": {},
     "output_type": "execute_result"
    }
   ],
   "source": [
    "#TODO# Import the MLPRegressor from sklearn.neural_network\n",
    "from sklearn.neural_network import MLPRegressor\n",
    "\n",
    "# Create the MLP Regressor model\n",
    "mlp_regression = MLPRegressor(\n",
    "    hidden_layer_sizes=(64, 32, 8),\n",
    "    activation= 'relu',\n",
    "    max_iter= 10\n",
    ")\n",
    "\n",
    "##TODO## Train the model\n",
    "mlp_regression.fit(Xtr2, Ytr2)"
   ]
  },
  {
   "cell_type": "markdown",
   "id": "5d321c29-c82b-43f4-af81-5570e938d3bf",
   "metadata": {},
   "source": [
    "## Part (d)\n",
    "Make predictions on the test set (`Xtest2`).\n",
    "Evaluate the model using appropriate metrics from sklearn.metrics."
   ]
  },
  {
   "cell_type": "code",
   "execution_count": 117,
   "id": "66c471dc-6fa7-4166-934a-8459f4191eae",
   "metadata": {},
   "outputs": [
    {
     "name": "stdout",
     "output_type": "stream",
     "text": [
      "Mean Squared Error: 32335.071632330222\n",
      "R2 Score: -3.842252105538094\n"
     ]
    }
   ],
   "source": [
    "#TODO## Predict on the test set\n",
    "Y_pred_mlp2 = mlp_regression.predict(Xtest2)\n",
    "\n",
    "##TODO##\n",
    "#import appropriate functions \n",
    "from sklearn.metrics import mean_squared_error, r2_score\n",
    "\n",
    "mse = mean_squared_error(Ytest2, Y_pred_mlp2)\n",
    "r2 = r2_score(Ytest2, Y_pred_mlp2)\n",
    "print(\"Mean Squared Error:\", mse)\n",
    "print(\"R2 Score:\", r2)"
   ]
  },
  {
   "cell_type": "markdown",
   "id": "93017563-8d24-4ab8-a88a-17b65eb211b5",
   "metadata": {},
   "source": [
    "## Part (e)\n",
    "Experiment with Hidden Layer Configurations\n",
    "This neural network currently has 2 hidden layers, each with 10 neurons (`hidden_layer_sizes=(10,10)`). The parameter `hidden_layer_sizes=(x, y, ...)` specifies the number of neurons in each layer.\n",
    "\n",
    "- Try experimenting with different configurations of hidden layers (e.g., fewer or more layers, or varying the number of neurons per layer) to observe their effect on the model's performance.\n",
    "- Does increasing the number of layers or neurons always improve the performance? Why or why not?\n",
    "- Change the activation function and observe how it impacts the model's performance.\n",
    "-Investigate the Parameter `learning_rate_init`\n"
   ]
  },
  {
   "cell_type": "markdown",
   "id": "aa20f029-d268-4fee-b5f0-f5f4a754d700",
   "metadata": {},
   "source": [
    "## Part (f) (Optional) \n",
    "Plot the predicted vs actual values\n",
    "After training the `MLPRegressor` and predicting the outputs for `Xtest2`, create a scatter plot to compare the predicted values (`Y_pred_mlp2`) against the actual values (`Ytest2`).\n"
   ]
  },
  {
   "cell_type": "code",
   "execution_count": 118,
   "id": "533102f5-7ac7-49f8-b4ff-3422714b2f0f",
   "metadata": {},
   "outputs": [
    {
     "data": {
      "image/png": "[encoded data removed]",
      "text/plain": [
       "<Figure size 640x480 with 1 Axes>"
      ]
     },
     "metadata": {},
     "output_type": "display_data"
    }
   ],
   "source": [
    "##TODO## Optionally, plot the predicted vs actual values\n",
    "plt.plot(Y_pred_mlp2, color= 'red', label= 'predict')\n",
    "plt.plot(Ytest2, color= 'blue', label= 'actual')\n",
    "plt.legend()\n",
    "plt.show()"
   ]
  },
  {
   "cell_type": "code",
   "execution_count": 119,
   "id": "74a228bd",
   "metadata": {},
   "outputs": [
    {
     "data": {
      "text/plain": [
       "[<matplotlib.lines.Line2D at 0x293e9132330>]"
      ]
     },
     "execution_count": 119,
     "metadata": {},
     "output_type": "execute_result"
    },
    {
     "data": {
      "image/png": "[encoded data removed]",
      "text/plain": [
       "<Figure size 640x480 with 1 Axes>"
      ]
     },
     "metadata": {},
     "output_type": "display_data"
    }
   ],
   "source": [
    "plt.plot(Y_pred_mlp2, color= 'red', label= 'predict')"
   ]
  },
  {
   "cell_type": "markdown",
   "id": "6227a7b4-2d73-4957-9a25-331d656d4d07",
   "metadata": {},
   "source": [
    "##  Part (g) Optional \n",
    "Plot the loss curve (progression of the loss during training)\n",
    "Access the model's loss curve to visualise the progression of the loss during training.\n",
    "- Use the `loss_curve_` attribute of the trained model to retrieve the loss values for each iteration."
   ]
  },
  {
   "cell_type": "code",
   "execution_count": 106,
   "id": "be532736-97cd-4e7e-b007-a813b9825340",
   "metadata": {},
   "outputs": [
    {
     "data": {
      "text/plain": [
       "[<matplotlib.lines.Line2D at 0x293e7a4a120>]"
      ]
     },
     "execution_count": 106,
     "metadata": {},
     "output_type": "execute_result"
    },
    {
     "data": {
      "image/png": "[encoded data removed]",
      "text/plain": [
       "<Figure size 640x480 with 1 Axes>"
      ]
     },
     "metadata": {},
     "output_type": "display_data"
    }
   ],
   "source": [
    "# Plot the loss curve (progression of the loss during training)\n",
    "##TODO##\n",
    "\n",
    "plt.plot(mlp_regression.loss_curve_)"
   ]
  },
  {
   "cell_type": "markdown",
   "id": "0b3c0513-6104-4a84-94ac-e75d777a3476",
   "metadata": {},
   "source": [
    "# Extra\n",
    "Grid Search\n",
    "Investigate GridSearchCV from sklearn.model_selection for optimising the parameters of neural network. Apply it to both MLP classification and regression tasks using the following grid of parameters"
   ]
  },
  {
   "cell_type": "code",
   "execution_count": 107,
   "id": "5e2b27be-24cc-46b2-ad15-1a6c610b409a",
   "metadata": {},
   "outputs": [],
   "source": [
    "param_grid = {\n",
    "    'hidden_layer_sizes': [(50,), (100,), (50, 50), (100, 100)],  # Number of neurons per layer\n",
    "    'activation': ['relu', 'logistic'],  # Activation functions\n",
    "    'learning_rate_init': [0.001, 0.01, 0.1]  # Learning rate\n",
    "}"
   ]
  },
  {
   "cell_type": "code",
   "execution_count": 103,
   "id": "c800acd9-c414-488f-9455-e7232a93983c",
   "metadata": {},
   "outputs": [
    {
     "ename": "SyntaxError",
     "evalue": "invalid syntax (116338336.py, line 4)",
     "output_type": "error",
     "traceback": [
      "\u001b[1;36m  Cell \u001b[1;32mIn[103], line 4\u001b[1;36m\u001b[0m\n\u001b[1;33m    grid_search1 = ##TODO##\u001b[0m\n\u001b[1;37m                   ^\u001b[0m\n\u001b[1;31mSyntaxError\u001b[0m\u001b[1;31m:\u001b[0m invalid syntax\n"
     ]
    }
   ],
   "source": [
    "##TODO##\n",
    "\n",
    "#Classification\n",
    "grid_search1 = ##TODO##\n",
    "\n",
    "#Regression\n",
    "grid_search2 = ##TODO##\n",
    "\n"
   ]
  }
 ],
 "metadata": {
  "kernelspec": {
   "display_name": "Python 3",
   "language": "python",
   "name": "python3"
  },
  "language_info": {
   "codemirror_mode": {
    "name": "ipython",
    "version": 3
   },
   "file_extension": ".py",
   "mimetype": "text/x-python",
   "name": "python",
   "nbconvert_exporter": "python",
   "pygments_lexer": "ipython3",
   "version": "3.12.7"
  }
 },
 "nbformat": 4,
 "nbformat_minor": 5
}
